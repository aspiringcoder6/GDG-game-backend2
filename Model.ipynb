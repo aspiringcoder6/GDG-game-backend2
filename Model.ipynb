{
  "cells": [
    {
      "cell_type": "markdown",
      "metadata": {
        "id": "view-in-github",
        "colab_type": "text"
      },
      "source": [
        "<a href=\"https://colab.research.google.com/github/PQHSGS/Quick_draw-using-Air-gesture/blob/main/Quick_draw.ipynb\" target=\"_parent\"><img src=\"https://colab.research.google.com/assets/colab-badge.svg\" alt=\"Open In Colab\"/></a>"
      ]
    },
    {
      "cell_type": "code",
      "execution_count": null,
      "metadata": {
        "id": "VFFWEW0TTpoG"
      },
      "outputs": [],
      "source": [
        "import numpy as np\n",
        "import matplotlib.pyplot as plt\n",
        "import seaborn as sns\n",
        "import os\n",
        "import random"
      ]
    },
    {
      "cell_type": "code",
      "execution_count": null,
      "metadata": {
        "id": "8MsX9YJQXmXx"
      },
      "outputs": [],
      "source": [
        "from google.colab import drive\n",
        "drive.mount('/content/drive')"
      ]
    },
    {
      "cell_type": "code",
      "execution_count": null,
      "metadata": {
        "id": "tMEO-1U2ZSZ3"
      },
      "outputs": [],
      "source": [
        "npy_files = [f for f in os.listdir('/content/drive/MyDrive/Colab Notebooks/Datasets/Trung thu_VME') if f.endswith('.npy')]\n",
        "npy_files.sort()\n",
        "image=[]\n",
        "labels=[]\n",
        "classes=[]\n",
        "num=0\n",
        "img_num=25000\n",
        "id=np.random.randint(1,100000,img_num)\n",
        "for file in npy_files:\n",
        "  label=file.split('_')[-1].split('.')[0]\n",
        "  data = np.load(os.path.join('/content/drive/MyDrive/Colab Notebooks/Datasets/Trung thu_VME', file,))\n",
        "  data=data.reshape(data.shape[0],28,28)\n",
        "  image.extend(data[id])\n",
        "  for _ in range(img_num):\n",
        "    labels.append(label[:img_num])\n",
        "    classes.append(num)\n",
        "  num+=1\n",
        "image=np.array(image)\n",
        "labels=np.array(labels)\n",
        "classes=np.array(classes)\n",
        "print(np.unique(labels,return_counts=True))"
      ]
    },
    {
      "cell_type": "code",
      "source": [
        "import cv2\n",
        "\n",
        "# Create a new list to store the resized images\n",
        "resized_images = []\n",
        "SIZE=32\n",
        "for i in range(image.shape[0]):\n",
        "  resized_image = cv2.resize(image[i], (SIZE, SIZE))\n",
        "  resized_images.append(resized_image)\n",
        "\n",
        "# Convert the list of resized images to a NumPy array\n",
        "image = np.array(resized_images)"
      ],
      "metadata": {
        "id": "fY7PTZx8HV2k"
      },
      "execution_count": null,
      "outputs": []
    },
    {
      "cell_type": "code",
      "execution_count": null,
      "metadata": {
        "id": "wMAZwiiDaiL1"
      },
      "outputs": [],
      "source": [
        "id=random.randint(0,len(image))\n",
        "plt.imshow(image[id],cmap='gray')\n",
        "plt.title(labels[id])"
      ]
    },
    {
      "cell_type": "code",
      "execution_count": null,
      "metadata": {
        "id": "QsiZi3kmc_qF"
      },
      "outputs": [],
      "source": [
        "from sklearn.model_selection import train_test_split\n",
        "full_train_images, test_images, full_train_classes, test_classes_1 = train_test_split(image, classes, test_size=0.2, random_state=42, stratify=classes)\n",
        "train_images, val_images, train_classes_1, val_classes_1 = train_test_split(full_train_images, full_train_classes, test_size=0.25, random_state=42, stratify=full_train_classes)"
      ]
    },
    {
      "cell_type": "code",
      "execution_count": null,
      "metadata": {
        "id": "X3zqPzaCa6Nt"
      },
      "outputs": [],
      "source": [
        "from keras.utils import to_categorical\n",
        "train_classes = to_categorical(train_classes_1)\n",
        "val_classes = to_categorical(val_classes_1)\n",
        "test_classes = to_categorical(test_classes_1)"
      ]
    },
    {
      "cell_type": "code",
      "execution_count": null,
      "metadata": {
        "id": "NrvSwtAle8J6"
      },
      "outputs": [],
      "source": [
        "from keras.models import Sequential\n",
        "from keras.layers import Conv2D, MaxPooling2D, Flatten, Dense, Dropout, BatchNormalization, GlobalAvgPool2D\n",
        "from keras.callbacks import EarlyStopping, ModelCheckpoint"
      ]
    },
    {
      "cell_type": "markdown",
      "metadata": {
        "id": "C28wQRLPKet_"
      },
      "source": [
        "**VGG**"
      ]
    },
    {
      "cell_type": "code",
      "execution_count": null,
      "metadata": {
        "id": "bB0WPdB4hxkw"
      },
      "outputs": [],
      "source": [
        "len=train_classes.shape[1]\n",
        "model=Sequential()\n",
        "model.add(Conv2D(32,kernel_size=(5,5),activation='relu',input_shape=(32,32,1)))\n",
        "model.add(Conv2D(32,kernel_size=(5,5),activation='relu'))\n",
        "model.add(MaxPooling2D(pool_size=(2,2)))\n",
        "\n",
        "model.add(Conv2D(64,kernel_size=(3,3),activation='relu'))\n",
        "model.add(Conv2D(64,kernel_size=(3,3),activation='relu'))\n",
        "model.add(MaxPooling2D(pool_size=(2,2)))\n",
        "\n",
        "model.add(Conv2D(128,kernel_size=(3,3),activation='relu',padding='same'))\n",
        "model.add(Conv2D(128,kernel_size=(3,3),activation='relu',padding='same'))\n",
        "model.add(Conv2D(128,kernel_size=(3,3),activation='relu',padding='same'))\n",
        "model.add(MaxPooling2D(pool_size=(2,2)))\n",
        "\n",
        "model.add(Conv2D(256,kernel_size=(3,3),activation='relu',padding='same'))\n",
        "model.add(Conv2D(256,kernel_size=(3,3),activation='relu',padding='same'))\n",
        "model.add(Conv2D(256,kernel_size=(3,3),activation='relu',padding='same'))\n",
        "model.add(MaxPooling2D(pool_size=(2,2)))\n",
        "\n",
        "model.add(Flatten())\n",
        "model.add(Dropout(0.2))\n",
        "model.add(Dense(64,activation='relu'))\n",
        "model.add(Dense(len,activation='softmax'))\n",
        "model.compile(optimizer='adam',loss='categorical_crossentropy',metrics=['accuracy'])"
      ]
    },
    {
      "cell_type": "code",
      "source": [
        "model.summary()"
      ],
      "metadata": {
        "id": "hJYIq16HtGqS"
      },
      "execution_count": null,
      "outputs": []
    },
    {
      "cell_type": "code",
      "execution_count": null,
      "metadata": {
        "id": "BsYHc016k7SW"
      },
      "outputs": [],
      "source": [
        "epoch=50\n",
        "batch=256\n",
        "callback=[EarlyStopping(monitor='val_loss',patience=10,verbose=0,restore_best_weights=True)]\n",
        "H=model.fit(train_images,train_classes,epochs=epoch,batch_size=batch,validation_data=(val_images,val_classes),callbacks=[callback])\n"
      ]
    },
    {
      "cell_type": "code",
      "execution_count": null,
      "metadata": {
        "id": "chPCABdaE8yE"
      },
      "outputs": [],
      "source": [
        "model.save('/content/drive/MyDrive/Colab Notebooks/Datasets/weights_VGG_new.h5',save_format='h5')"
      ]
    },
    {
      "cell_type": "code",
      "execution_count": null,
      "metadata": {
        "id": "zZhb8PS8wfgZ"
      },
      "outputs": [],
      "source": [
        "last_epoch=17\n",
        "plt.style.use('ggplot')\n",
        "fig = plt.figure()\n",
        "plt.plot(np.arange(0,last_epoch), H.history['loss'], label='training loss')\n",
        "plt.plot(np.arange(0,last_epoch), H.history['val_loss'], label='validation loss')\n",
        "plt.plot(np.arange(0,last_epoch), H.history['accuracy'], label='accuracy')\n",
        "plt.plot(np.arange(0,last_epoch), H.history['val_accuracy'], label='validation accuracy')\n",
        "plt.title('Accuracy and Loss')\n",
        "plt.xlabel('Epoch')\n",
        "plt.ylabel('Loss|Accuracy')\n",
        "plt.legend()"
      ]
    },
    {
      "cell_type": "code",
      "source": [
        "predicts=model.predict(test_images)\n",
        "predicts=np.argmax(predicts,axis=1)"
      ],
      "metadata": {
        "id": "9BQU4Hu4hciB"
      },
      "execution_count": null,
      "outputs": []
    },
    {
      "cell_type": "code",
      "execution_count": null,
      "metadata": {
        "id": "SnaxctDcI7Vm"
      },
      "outputs": [],
      "source": [
        "test_classes=np.argmax(test_classes,axis=1)\n",
        "from sklearn.metrics import classification_report,confusion_matrix\n",
        "print(classification_report(test_classes,predicts))"
      ]
    }
  ],
  "metadata": {
    "colab": {
      "provenance": [],
      "gpuType": "T4",
      "mount_file_id": "1XigrMWoC4SE53rrZJNx6ugVWPBtWIPGu",
      "authorship_tag": "ABX9TyMuy3SLGoJvK4brNvdjTkA6",
      "include_colab_link": true
    },
    "kernelspec": {
      "display_name": "Python 3",
      "name": "python3"
    },
    "language_info": {
      "name": "python"
    },
    "accelerator": "GPU"
  },
  "nbformat": 4,
  "nbformat_minor": 0
}